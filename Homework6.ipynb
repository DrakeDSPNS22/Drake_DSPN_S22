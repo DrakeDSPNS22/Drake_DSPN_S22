{
 "cells": [
  {
   "cell_type": "markdown",
   "metadata": {
    "id": "-2W919d2ZXp7"
   },
   "source": [
    "# Homework 6: Mixed effects"
   ]
  },
  {
   "cell_type": "markdown",
   "metadata": {
    "id": "L4nOzVhyZXqK"
   },
   "source": [
    "This homework assignment is designed to give you practice fitting and interpreting mixed effects models. \n",
    "\n",
    "We will be using the **LexicalData.csv** and **Items.csv** files from the *Homework/lexDat* folder in the class GitHub repository again. \n",
    "\n",
    "This data is a subset of the [English Lexicon Project database](https://elexicon.wustl.edu/). It provides the reaction times (in milliseconds) of many subjects as they are presented with letter strings and asked to decide, as quickly and as accurately as possible, whether the letter string is a word or not. The **Items.csv** provides characteristics of the words used, namely frequency (how common is this word?) and length (how many letters?). Unlike in the previous homework, there isn't any missing data in the **LexicalData.csv** file. \n",
    "\n",
    "*Data courtesy of Balota, D.A., Yap, M.J., Cortese, M.J., Hutchison, K.A., Kessler, B., Loftis, B., Neely, J.H., Nelson, D.L., Simpson, G.B., & Treiman, R. (2007). The English Lexicon Project. Behavior Research Methods, 39, 445-459.*"
   ]
  },
  {
   "cell_type": "markdown",
   "metadata": {
    "id": "9DsyBTB6ZXqN"
   },
   "source": [
    "---\n",
    "## 1. Loading and formatting the data (1 point)\n",
    "\n",
    "Load in data from the **LexicalData.csv** and **Items.csv** files. As in the previous homeworks, remove the commas from the reaction times and convert them from strings to numbers. Use `left_join` to add word characteristics `Length` and `Log_Freq_Hal` from **Items** to **LexicalData**. \n",
    "\n",
    "*Note: the `Freq_HAL` variable in **Items.csv** has a similar formatting issue, using string values with commas. We're not going to worry about fixing this since we're only using `Log_Freq_HAL`, which is the natural log transformation of `Freq_HAL`, in this homework.*"
   ]
  },
  {
   "cell_type": "code",
   "execution_count": 6,
   "metadata": {
    "colab": {
     "base_uri": "https://localhost:8080/",
     "height": 283
    },
    "executionInfo": {
     "elapsed": 3646,
     "status": "ok",
     "timestamp": 1615941478718,
     "user": {
      "displayName": "Patience Stevens",
      "photoUrl": "https://lh3.googleusercontent.com/a-/AOh14Gi-_9ZqhIFhAv1oMehJNvNuIKSTyrFQHzjxQKhx=s64",
      "userId": "01994571539255174942"
     },
     "user_tz": 240
    },
    "id": "UnBVazYfZXqP",
    "outputId": "ac15e53d-db29-431a-cefe-c4a81bee3024"
   },
   "outputs": [
    {
     "name": "stderr",
     "output_type": "stream",
     "text": [
      "\u001b[1m\u001b[1mRows: \u001b[1m\u001b[22m\u001b[34m\u001b[34m62610\u001b[34m\u001b[39m \u001b[1m\u001b[1mColumns: \u001b[1m\u001b[22m\u001b[34m\u001b[34m7\u001b[34m\u001b[39m\n",
      "\u001b[36m──\u001b[39m \u001b[1m\u001b[1mColumn specification\u001b[1m\u001b[22m \u001b[36m────────────────────────────────────────────────────────\u001b[39m\n",
      "\u001b[1mDelimiter:\u001b[22m \",\"\n",
      "\u001b[31mchr\u001b[39m (1): D_Word\n",
      "\u001b[32mdbl\u001b[39m (4): Sub_ID, Trial, Type, D_Zscore\n",
      "\u001b[33mlgl\u001b[39m (1): Outlier\n",
      "\n",
      "\u001b[36mℹ\u001b[39m Use \u001b[30m\u001b[47m\u001b[30m\u001b[47m`spec()`\u001b[47m\u001b[30m\u001b[49m\u001b[39m to retrieve the full column specification for this data.\n",
      "\u001b[36mℹ\u001b[39m Specify the column types or set \u001b[30m\u001b[47m\u001b[30m\u001b[47m`show_col_types = FALSE`\u001b[47m\u001b[30m\u001b[49m\u001b[39m to quiet this message.\n"
     ]
    },
    {
     "data": {
      "text/html": [
       "<table class=\"dataframe\">\n",
       "<caption>A tibble: 6 × 7</caption>\n",
       "<thead>\n",
       "\t<tr><th scope=col>Sub_ID</th><th scope=col>Trial</th><th scope=col>Type</th><th scope=col>D_RT</th><th scope=col>D_Word</th><th scope=col>Outlier</th><th scope=col>D_Zscore</th></tr>\n",
       "\t<tr><th scope=col>&lt;dbl&gt;</th><th scope=col>&lt;dbl&gt;</th><th scope=col>&lt;dbl&gt;</th><th scope=col>&lt;dbl&gt;</th><th scope=col>&lt;chr&gt;</th><th scope=col>&lt;lgl&gt;</th><th scope=col>&lt;dbl&gt;</th></tr>\n",
       "</thead>\n",
       "<tbody>\n",
       "\t<tr><td>157</td><td>1</td><td>1</td><td> 710</td><td>browse     </td><td>FALSE</td><td>-0.437</td></tr>\n",
       "\t<tr><td> 67</td><td>1</td><td>1</td><td>1094</td><td>refrigerant</td><td>FALSE</td><td> 0.825</td></tr>\n",
       "\t<tr><td>120</td><td>1</td><td>1</td><td> 587</td><td>gaining    </td><td>FALSE</td><td>-0.645</td></tr>\n",
       "\t<tr><td> 21</td><td>1</td><td>1</td><td> 984</td><td>cheerless  </td><td>FALSE</td><td> 0.025</td></tr>\n",
       "\t<tr><td>236</td><td>1</td><td>1</td><td> 577</td><td>pattered   </td><td>FALSE</td><td>-0.763</td></tr>\n",
       "\t<tr><td>236</td><td>2</td><td>1</td><td> 715</td><td>conjures   </td><td>FALSE</td><td>-0.364</td></tr>\n",
       "</tbody>\n",
       "</table>\n"
      ],
      "text/latex": [
       "A tibble: 6 × 7\n",
       "\\begin{tabular}{lllllll}\n",
       " Sub\\_ID & Trial & Type & D\\_RT & D\\_Word & Outlier & D\\_Zscore\\\\\n",
       " <dbl> & <dbl> & <dbl> & <dbl> & <chr> & <lgl> & <dbl>\\\\\n",
       "\\hline\n",
       "\t 157 & 1 & 1 &  710 & browse      & FALSE & -0.437\\\\\n",
       "\t  67 & 1 & 1 & 1094 & refrigerant & FALSE &  0.825\\\\\n",
       "\t 120 & 1 & 1 &  587 & gaining     & FALSE & -0.645\\\\\n",
       "\t  21 & 1 & 1 &  984 & cheerless   & FALSE &  0.025\\\\\n",
       "\t 236 & 1 & 1 &  577 & pattered    & FALSE & -0.763\\\\\n",
       "\t 236 & 2 & 1 &  715 & conjures    & FALSE & -0.364\\\\\n",
       "\\end{tabular}\n"
      ],
      "text/markdown": [
       "\n",
       "A tibble: 6 × 7\n",
       "\n",
       "| Sub_ID &lt;dbl&gt; | Trial &lt;dbl&gt; | Type &lt;dbl&gt; | D_RT &lt;dbl&gt; | D_Word &lt;chr&gt; | Outlier &lt;lgl&gt; | D_Zscore &lt;dbl&gt; |\n",
       "|---|---|---|---|---|---|---|\n",
       "| 157 | 1 | 1 |  710 | browse      | FALSE | -0.437 |\n",
       "|  67 | 1 | 1 | 1094 | refrigerant | FALSE |  0.825 |\n",
       "| 120 | 1 | 1 |  587 | gaining     | FALSE | -0.645 |\n",
       "|  21 | 1 | 1 |  984 | cheerless   | FALSE |  0.025 |\n",
       "| 236 | 1 | 1 |  577 | pattered    | FALSE | -0.763 |\n",
       "| 236 | 2 | 1 |  715 | conjures    | FALSE | -0.364 |\n",
       "\n"
      ],
      "text/plain": [
       "  Sub_ID Trial Type D_RT D_Word      Outlier D_Zscore\n",
       "1 157    1     1     710 browse      FALSE   -0.437  \n",
       "2  67    1     1    1094 refrigerant FALSE    0.825  \n",
       "3 120    1     1     587 gaining     FALSE   -0.645  \n",
       "4  21    1     1     984 cheerless   FALSE    0.025  \n",
       "5 236    1     1     577 pattered    FALSE   -0.763  \n",
       "6 236    2     1     715 conjures    FALSE   -0.364  "
      ]
     },
     "metadata": {},
     "output_type": "display_data"
    },
    {
     "name": "stderr",
     "output_type": "stream",
     "text": [
      "\u001b[1m\u001b[1mRows: \u001b[1m\u001b[22m\u001b[34m\u001b[34m30959\u001b[34m\u001b[39m \u001b[1m\u001b[1mColumns: \u001b[1m\u001b[22m\u001b[34m\u001b[34m5\u001b[34m\u001b[39m\n",
      "\u001b[36m──\u001b[39m \u001b[1m\u001b[1mColumn specification\u001b[1m\u001b[22m \u001b[36m────────────────────────────────────────────────────────\u001b[39m\n",
      "\u001b[1mDelimiter:\u001b[22m \",\"\n",
      "\u001b[31mchr\u001b[39m (1): Word\n",
      "\u001b[32mdbl\u001b[39m (3): Occurrences, Length, Log_Freq_HAL\n",
      "\n",
      "\u001b[36mℹ\u001b[39m Use \u001b[30m\u001b[47m\u001b[30m\u001b[47m`spec()`\u001b[47m\u001b[30m\u001b[49m\u001b[39m to retrieve the full column specification for this data.\n",
      "\u001b[36mℹ\u001b[39m Specify the column types or set \u001b[30m\u001b[47m\u001b[30m\u001b[47m`show_col_types = FALSE`\u001b[47m\u001b[30m\u001b[49m\u001b[39m to quiet this message.\n"
     ]
    },
    {
     "data": {
      "text/html": [
       "<table class=\"dataframe\">\n",
       "<caption>A tibble: 6 × 5</caption>\n",
       "<thead>\n",
       "\t<tr><th scope=col>Occurrences</th><th scope=col>Word</th><th scope=col>Length</th><th scope=col>Freq_HAL</th><th scope=col>Log_Freq_HAL</th></tr>\n",
       "\t<tr><th scope=col>&lt;dbl&gt;</th><th scope=col>&lt;chr&gt;</th><th scope=col>&lt;dbl&gt;</th><th scope=col>&lt;dbl&gt;</th><th scope=col>&lt;dbl&gt;</th></tr>\n",
       "</thead>\n",
       "<tbody>\n",
       "\t<tr><td>1</td><td>synergistic</td><td>11</td><td> 284</td><td>5.649</td></tr>\n",
       "\t<tr><td>1</td><td>synonymous </td><td>10</td><td> 951</td><td>6.858</td></tr>\n",
       "\t<tr><td>1</td><td>syntactical</td><td>11</td><td> 114</td><td>4.736</td></tr>\n",
       "\t<tr><td>1</td><td>synthesis  </td><td> 9</td><td>6742</td><td>8.816</td></tr>\n",
       "\t<tr><td>1</td><td>synthesized</td><td>11</td><td>2709</td><td>7.904</td></tr>\n",
       "\t<tr><td>1</td><td>synthesizer</td><td>11</td><td>1390</td><td>7.237</td></tr>\n",
       "</tbody>\n",
       "</table>\n"
      ],
      "text/latex": [
       "A tibble: 6 × 5\n",
       "\\begin{tabular}{lllll}\n",
       " Occurrences & Word & Length & Freq\\_HAL & Log\\_Freq\\_HAL\\\\\n",
       " <dbl> & <chr> & <dbl> & <dbl> & <dbl>\\\\\n",
       "\\hline\n",
       "\t 1 & synergistic & 11 &  284 & 5.649\\\\\n",
       "\t 1 & synonymous  & 10 &  951 & 6.858\\\\\n",
       "\t 1 & syntactical & 11 &  114 & 4.736\\\\\n",
       "\t 1 & synthesis   &  9 & 6742 & 8.816\\\\\n",
       "\t 1 & synthesized & 11 & 2709 & 7.904\\\\\n",
       "\t 1 & synthesizer & 11 & 1390 & 7.237\\\\\n",
       "\\end{tabular}\n"
      ],
      "text/markdown": [
       "\n",
       "A tibble: 6 × 5\n",
       "\n",
       "| Occurrences &lt;dbl&gt; | Word &lt;chr&gt; | Length &lt;dbl&gt; | Freq_HAL &lt;dbl&gt; | Log_Freq_HAL &lt;dbl&gt; |\n",
       "|---|---|---|---|---|\n",
       "| 1 | synergistic | 11 |  284 | 5.649 |\n",
       "| 1 | synonymous  | 10 |  951 | 6.858 |\n",
       "| 1 | syntactical | 11 |  114 | 4.736 |\n",
       "| 1 | synthesis   |  9 | 6742 | 8.816 |\n",
       "| 1 | synthesized | 11 | 2709 | 7.904 |\n",
       "| 1 | synthesizer | 11 | 1390 | 7.237 |\n",
       "\n"
      ],
      "text/plain": [
       "  Occurrences Word        Length Freq_HAL Log_Freq_HAL\n",
       "1 1           synergistic 11      284     5.649       \n",
       "2 1           synonymous  10      951     6.858       \n",
       "3 1           syntactical 11      114     4.736       \n",
       "4 1           synthesis    9     6742     8.816       \n",
       "5 1           synthesized 11     2709     7.904       \n",
       "6 1           synthesizer 11     1390     7.237       "
      ]
     },
     "metadata": {},
     "output_type": "display_data"
    },
    {
     "data": {
      "text/html": [
       "<table class=\"dataframe\">\n",
       "<caption>A tibble: 6 × 11</caption>\n",
       "<thead>\n",
       "\t<tr><th scope=col>Sub_ID</th><th scope=col>Trial</th><th scope=col>Type</th><th scope=col>D_RT</th><th scope=col>Word</th><th scope=col>Outlier</th><th scope=col>D_Zscore</th><th scope=col>Occurrences</th><th scope=col>Length</th><th scope=col>Freq_HAL</th><th scope=col>Log_Freq_HAL</th></tr>\n",
       "\t<tr><th scope=col>&lt;dbl&gt;</th><th scope=col>&lt;dbl&gt;</th><th scope=col>&lt;dbl&gt;</th><th scope=col>&lt;dbl&gt;</th><th scope=col>&lt;chr&gt;</th><th scope=col>&lt;lgl&gt;</th><th scope=col>&lt;dbl&gt;</th><th scope=col>&lt;dbl&gt;</th><th scope=col>&lt;dbl&gt;</th><th scope=col>&lt;dbl&gt;</th><th scope=col>&lt;dbl&gt;</th></tr>\n",
       "</thead>\n",
       "<tbody>\n",
       "\t<tr><td>157</td><td>1</td><td>1</td><td> 710</td><td>browse     </td><td>FALSE</td><td>-0.437</td><td>2</td><td> 6</td><td>7016</td><td>8.856</td></tr>\n",
       "\t<tr><td> 67</td><td>1</td><td>1</td><td>1094</td><td>refrigerant</td><td>FALSE</td><td> 0.825</td><td>3</td><td>11</td><td> 104</td><td>4.644</td></tr>\n",
       "\t<tr><td>120</td><td>1</td><td>1</td><td> 587</td><td>gaining    </td><td>FALSE</td><td>-0.645</td><td>4</td><td> 7</td><td>4039</td><td>8.304</td></tr>\n",
       "\t<tr><td> 21</td><td>1</td><td>1</td><td> 984</td><td>cheerless  </td><td>FALSE</td><td> 0.025</td><td>4</td><td> 9</td><td>  14</td><td>2.639</td></tr>\n",
       "\t<tr><td>236</td><td>1</td><td>1</td><td> 577</td><td>pattered   </td><td>FALSE</td><td>-0.763</td><td>4</td><td> 8</td><td>   4</td><td>1.386</td></tr>\n",
       "\t<tr><td>236</td><td>2</td><td>1</td><td> 715</td><td>conjures   </td><td>FALSE</td><td>-0.364</td><td>4</td><td> 8</td><td> 194</td><td>5.268</td></tr>\n",
       "</tbody>\n",
       "</table>\n"
      ],
      "text/latex": [
       "A tibble: 6 × 11\n",
       "\\begin{tabular}{lllllllllll}\n",
       " Sub\\_ID & Trial & Type & D\\_RT & Word & Outlier & D\\_Zscore & Occurrences & Length & Freq\\_HAL & Log\\_Freq\\_HAL\\\\\n",
       " <dbl> & <dbl> & <dbl> & <dbl> & <chr> & <lgl> & <dbl> & <dbl> & <dbl> & <dbl> & <dbl>\\\\\n",
       "\\hline\n",
       "\t 157 & 1 & 1 &  710 & browse      & FALSE & -0.437 & 2 &  6 & 7016 & 8.856\\\\\n",
       "\t  67 & 1 & 1 & 1094 & refrigerant & FALSE &  0.825 & 3 & 11 &  104 & 4.644\\\\\n",
       "\t 120 & 1 & 1 &  587 & gaining     & FALSE & -0.645 & 4 &  7 & 4039 & 8.304\\\\\n",
       "\t  21 & 1 & 1 &  984 & cheerless   & FALSE &  0.025 & 4 &  9 &   14 & 2.639\\\\\n",
       "\t 236 & 1 & 1 &  577 & pattered    & FALSE & -0.763 & 4 &  8 &    4 & 1.386\\\\\n",
       "\t 236 & 2 & 1 &  715 & conjures    & FALSE & -0.364 & 4 &  8 &  194 & 5.268\\\\\n",
       "\\end{tabular}\n"
      ],
      "text/markdown": [
       "\n",
       "A tibble: 6 × 11\n",
       "\n",
       "| Sub_ID &lt;dbl&gt; | Trial &lt;dbl&gt; | Type &lt;dbl&gt; | D_RT &lt;dbl&gt; | Word &lt;chr&gt; | Outlier &lt;lgl&gt; | D_Zscore &lt;dbl&gt; | Occurrences &lt;dbl&gt; | Length &lt;dbl&gt; | Freq_HAL &lt;dbl&gt; | Log_Freq_HAL &lt;dbl&gt; |\n",
       "|---|---|---|---|---|---|---|---|---|---|---|\n",
       "| 157 | 1 | 1 |  710 | browse      | FALSE | -0.437 | 2 |  6 | 7016 | 8.856 |\n",
       "|  67 | 1 | 1 | 1094 | refrigerant | FALSE |  0.825 | 3 | 11 |  104 | 4.644 |\n",
       "| 120 | 1 | 1 |  587 | gaining     | FALSE | -0.645 | 4 |  7 | 4039 | 8.304 |\n",
       "|  21 | 1 | 1 |  984 | cheerless   | FALSE |  0.025 | 4 |  9 |   14 | 2.639 |\n",
       "| 236 | 1 | 1 |  577 | pattered    | FALSE | -0.763 | 4 |  8 |    4 | 1.386 |\n",
       "| 236 | 2 | 1 |  715 | conjures    | FALSE | -0.364 | 4 |  8 |  194 | 5.268 |\n",
       "\n"
      ],
      "text/plain": [
       "  Sub_ID Trial Type D_RT Word        Outlier D_Zscore Occurrences Length\n",
       "1 157    1     1     710 browse      FALSE   -0.437   2            6    \n",
       "2  67    1     1    1094 refrigerant FALSE    0.825   3           11    \n",
       "3 120    1     1     587 gaining     FALSE   -0.645   4            7    \n",
       "4  21    1     1     984 cheerless   FALSE    0.025   4            9    \n",
       "5 236    1     1     577 pattered    FALSE   -0.763   4            8    \n",
       "6 236    2     1     715 conjures    FALSE   -0.364   4            8    \n",
       "  Freq_HAL Log_Freq_HAL\n",
       "1 7016     8.856       \n",
       "2  104     4.644       \n",
       "3 4039     8.304       \n",
       "4   14     2.639       \n",
       "5    4     1.386       \n",
       "6  194     5.268       "
      ]
     },
     "metadata": {},
     "output_type": "display_data"
    }
   ],
   "source": [
    "library(\"tidyverse\")\n",
    "library(\"dplyr\")\n",
    "\n",
    "\n",
    "setwd(\"/Users/jermondrake/Desktop/DataSciencePsychNeuro/Homeworks/lexDat\")\n",
    "LexicalData <- read_csv(\"LexicalData.csv\")\n",
    "head(LexicalData)\n",
    "Items <- read_csv(\"Items.csv\")\n",
    "head(Items)\n",
    "\n",
    "## Get rid of the commas in the reaction time values, and make this variable numeric \n",
    "LexicalData$D_RT <- as.numeric(gsub(\",\",\"\",LexicalData$D_RT))\n",
    "\n",
    "Lex <- rename(LexicalData, Word = D_Word)\n",
    "JD <- left_join(x=Lex, y=Items, by = \"Word\")\n",
    "head(JD)\n"
   ]
  },
  {
   "cell_type": "markdown",
   "metadata": {
    "id": "bXy81Viishk1"
   },
   "source": [
    "---\n",
    "## 2. Model fitting (4 points)"
   ]
  },
  {
   "cell_type": "markdown",
   "metadata": {
    "id": "H7_gEgkbzFtU"
   },
   "source": [
    "First, fit a linear model with `Log_Freq_HAL` and `Length` as predictors, and `D_RT` as the output. Include an interaction term. Use `summary()` to look at the model output. "
   ]
  },
  {
   "cell_type": "code",
   "execution_count": 7,
   "metadata": {
    "colab": {
     "base_uri": "https://localhost:8080/",
     "height": 357
    },
    "executionInfo": {
     "elapsed": 218,
     "status": "ok",
     "timestamp": 1615950762843,
     "user": {
      "displayName": "Patience Stevens",
      "photoUrl": "https://lh3.googleusercontent.com/a-/AOh14Gi-_9ZqhIFhAv1oMehJNvNuIKSTyrFQHzjxQKhx=s64",
      "userId": "01994571539255174942"
     },
     "user_tz": 240
    },
    "id": "OIOIg-GRz4rN",
    "outputId": "34ebc9d5-f7dc-4bc0-bc4a-9ed6b8a38630"
   },
   "outputs": [
    {
     "data": {
      "text/plain": [
       "\n",
       "Call:\n",
       "lm(formula = D_RT ~ Length * Log_Freq_HAL, data = JD)\n",
       "\n",
       "Residuals:\n",
       "     Min       1Q   Median       3Q      Max \n",
       "-1118.01  -205.23   -86.95    90.77  3147.07 \n",
       "\n",
       "Coefficients:\n",
       "                    Estimate Std. Error t value Pr(>|t|)    \n",
       "(Intercept)         610.1903    14.6678  41.601  < 2e-16 ***\n",
       "Length               47.7531     1.6368  29.175  < 2e-16 ***\n",
       "Log_Freq_HAL         -6.0239     1.9678  -3.061  0.00221 ** \n",
       "Length:Log_Freq_HAL  -2.9421     0.2348 -12.528  < 2e-16 ***\n",
       "---\n",
       "Signif. codes:  0 ‘***’ 0.001 ‘**’ 0.01 ‘*’ 0.05 ‘.’ 0.1 ‘ ’ 1\n",
       "\n",
       "Residual standard error: 359.1 on 62606 degrees of freedom\n",
       "Multiple R-squared:  0.09473,\tAdjusted R-squared:  0.09469 \n",
       "F-statistic:  2184 on 3 and 62606 DF,  p-value: < 2.2e-16\n"
      ]
     },
     "metadata": {},
     "output_type": "display_data"
    }
   ],
   "source": [
    "\n",
    "lm.fit2 = lm(D_RT ~ Length * Log_Freq_HAL, data=JD)\n",
    "summary(lm.fit2)\n",
    "\n"
   ]
  },
  {
   "cell_type": "markdown",
   "metadata": {
    "id": "Pbeg_JrS3mwU"
   },
   "source": [
    "Now, install `lme4` using `install.packages()` and then load the library. "
   ]
  },
  {
   "cell_type": "code",
   "execution_count": 9,
   "metadata": {
    "colab": {
     "base_uri": "https://localhost:8080/"
    },
    "executionInfo": {
     "elapsed": 194755,
     "status": "ok",
     "timestamp": 1615942729586,
     "user": {
      "displayName": "Patience Stevens",
      "photoUrl": "https://lh3.googleusercontent.com/a-/AOh14Gi-_9ZqhIFhAv1oMehJNvNuIKSTyrFQHzjxQKhx=s64",
      "userId": "01994571539255174942"
     },
     "user_tz": 240
    },
    "id": "hFSnvvb_re2O",
    "outputId": "c834867c-929f-4792-ed8f-753f0b17d91a"
   },
   "outputs": [
    {
     "name": "stdout",
     "output_type": "stream",
     "text": [
      "\n",
      "The downloaded binary packages are in\n",
      "\t/var/folders/kz/8vg60xks15n0kzw05cwwrbc40000gn/T//RtmpEha4lv/downloaded_packages\n"
     ]
    }
   ],
   "source": [
    "install.packages(\"lme4\")\n",
    "library(\"lme4\")\n"
   ]
  },
  {
   "cell_type": "markdown",
   "metadata": {
    "id": "xZJns7xr41nW"
   },
   "source": [
    "Now fit a mixed effects model that includes the same predictors as the linear model above, as well as random intercepts for `Sub_ID` (i.e., cases where subject ID shifts the RT mean). Use `summary()` to look at the model output. "
   ]
  },
  {
   "cell_type": "code",
   "execution_count": 10,
   "metadata": {
    "colab": {
     "base_uri": "https://localhost:8080/",
     "height": 493
    },
    "executionInfo": {
     "elapsed": 899,
     "status": "ok",
     "timestamp": 1615950778119,
     "user": {
      "displayName": "Patience Stevens",
      "photoUrl": "https://lh3.googleusercontent.com/a-/AOh14Gi-_9ZqhIFhAv1oMehJNvNuIKSTyrFQHzjxQKhx=s64",
      "userId": "01994571539255174942"
     },
     "user_tz": 240
    },
    "id": "8kjwT0je57N7",
    "outputId": "6f4974ab-621d-4608-f3bf-113735ede739"
   },
   "outputs": [
    {
     "data": {
      "text/plain": [
       "Linear mixed model fit by REML ['lmerMod']\n",
       "Formula: D_RT ~ Log_Freq_HAL * Length + (1 | Sub_ID)\n",
       "   Data: JD\n",
       "\n",
       "REML criterion at convergence: 888235.6\n",
       "\n",
       "Scaled residuals: \n",
       "    Min      1Q  Median      3Q     Max \n",
       "-4.5058 -0.5472 -0.1568  0.3103 10.7381 \n",
       "\n",
       "Random effects:\n",
       " Groups   Name        Variance Std.Dev.\n",
       " Sub_ID   (Intercept) 46333    215.3   \n",
       " Residual             82978    288.1   \n",
       "Number of obs: 62610, groups:  Sub_ID, 299\n",
       "\n",
       "Fixed effects:\n",
       "                    Estimate Std. Error t value\n",
       "(Intercept)         616.8445    17.1522  35.963\n",
       "Log_Freq_HAL         -7.4374     1.5830  -4.698\n",
       "Length               47.7477     1.3162  36.277\n",
       "Log_Freq_HAL:Length  -2.8778     0.1888 -15.239\n",
       "\n",
       "Correlation of Fixed Effects:\n",
       "            (Intr) Lg_F_HAL Length\n",
       "Log_Frq_HAL -0.645                \n",
       "Length      -0.656  0.917         \n",
       "Lg_Fr_HAL:L  0.582 -0.942   -0.923"
      ]
     },
     "metadata": {},
     "output_type": "display_data"
    }
   ],
   "source": [
    "lmixed.fit = lmer(D_RT ~ Log_Freq_HAL * Length + (1|Sub_ID), data=JD)\n",
    "summary(lmixed.fit)\n"
   ]
  },
  {
   "cell_type": "markdown",
   "metadata": {
    "id": "Vfb_ovk7JFGt"
   },
   "source": [
    "---\n",
    "## 3. Model assessment (4 points)"
   ]
  },
  {
   "cell_type": "markdown",
   "metadata": {
    "id": "r7B1Ux6RHGjy"
   },
   "source": [
    "Compare the three t-values for the fixed effects and the mixed effects models. How do they differ, and why? "
   ]
  },
  {
   "cell_type": "markdown",
   "metadata": {
    "id": "kCi5gYOeHo6m"
   },
   "source": [
    "\n",
    "> The t values of the fixed effects in the mixed effect model are larger than the t values in the fixed effect only model. Controling individual variation in intercept/starting point of reaction times across subject ID appear to account for a signficant amount of variance in reaction time, which may contribute to improved estimation of the fixed effects and explain why the t values are larger in the mixed effects model."
   ]
  },
  {
   "cell_type": "markdown",
   "metadata": {
    "id": "hukKG1AbGqXM"
   },
   "source": [
    "Use the Aikeke Information Criterion (AIC) to compare these two models. Which one is better? "
   ]
  },
  {
   "cell_type": "code",
   "execution_count": 11,
   "metadata": {
    "colab": {
     "base_uri": "https://localhost:8080/",
     "height": 159
    },
    "executionInfo": {
     "elapsed": 267,
     "status": "ok",
     "timestamp": 1615949607837,
     "user": {
      "displayName": "Patience Stevens",
      "photoUrl": "https://lh3.googleusercontent.com/a-/AOh14Gi-_9ZqhIFhAv1oMehJNvNuIKSTyrFQHzjxQKhx=s64",
      "userId": "01994571539255174942"
     },
     "user_tz": 240
    },
    "id": "KMDg8qb5FhJz",
    "outputId": "a148b06b-ec96-41e3-d13d-a439acbdf6d7"
   },
   "outputs": [
    {
     "data": {
      "text/html": [
       "<table class=\"dataframe\">\n",
       "<caption>A data.frame: 2 × 2</caption>\n",
       "<thead>\n",
       "\t<tr><th></th><th scope=col>df</th><th scope=col>AIC</th></tr>\n",
       "\t<tr><th></th><th scope=col>&lt;dbl&gt;</th><th scope=col>&lt;dbl&gt;</th></tr>\n",
       "</thead>\n",
       "<tbody>\n",
       "\t<tr><th scope=row>lmixed.fit</th><td>6</td><td>888247.6</td></tr>\n",
       "\t<tr><th scope=row>lm.fit2</th><td>5</td><td>914436.4</td></tr>\n",
       "</tbody>\n",
       "</table>\n"
      ],
      "text/latex": [
       "A data.frame: 2 × 2\n",
       "\\begin{tabular}{r|ll}\n",
       "  & df & AIC\\\\\n",
       "  & <dbl> & <dbl>\\\\\n",
       "\\hline\n",
       "\tlmixed.fit & 6 & 888247.6\\\\\n",
       "\tlm.fit2 & 5 & 914436.4\\\\\n",
       "\\end{tabular}\n"
      ],
      "text/markdown": [
       "\n",
       "A data.frame: 2 × 2\n",
       "\n",
       "| <!--/--> | df &lt;dbl&gt; | AIC &lt;dbl&gt; |\n",
       "|---|---|---|\n",
       "| lmixed.fit | 6 | 888247.6 |\n",
       "| lm.fit2 | 5 | 914436.4 |\n",
       "\n"
      ],
      "text/plain": [
       "           df AIC     \n",
       "lmixed.fit 6  888247.6\n",
       "lm.fit2    5  914436.4"
      ]
     },
     "metadata": {},
     "output_type": "display_data"
    },
    {
     "data": {
      "text/html": [
       "26188.8233715763"
      ],
      "text/latex": [
       "26188.8233715763"
      ],
      "text/markdown": [
       "26188.8233715763"
      ],
      "text/plain": [
       "[1] 26188.82"
      ]
     },
     "metadata": {},
     "output_type": "display_data"
    }
   ],
   "source": [
    "\n",
    "\n",
    "ic = AIC(lmixed.fit, lm.fit2)\n",
    "ic\n",
    "diff(ic$AIC)"
   ]
  },
  {
   "cell_type": "markdown",
   "metadata": {
    "id": "T4oTfsYmIvYt"
   },
   "source": [
    "\n",
    "> Since the AIC of the  mixed effects model is smaller, it appears that the mixed effects model is better."
   ]
  },
  {
   "cell_type": "markdown",
   "metadata": {
    "id": "ARF2PF2yLXkZ"
   },
   "source": [
    "---\n",
    "##  4. Reflection (1 point)\n",
    "\n",
    "What other random effects could be controlled for in this data set? \n",
    "\n",
    ">Trial, type, occurences?\n"
   ]
  },
  {
   "cell_type": "markdown",
   "metadata": {
    "id": "C4MPECMmZXqe"
   },
   "source": [
    "**DUE:** 5pm EST, March 25, 2022"
   ]
  },
  {
   "cell_type": "markdown",
   "metadata": {
    "id": "r9GUofXN4BVy"
   },
   "source": [
    "**IMPORTANT** Did you collaborate with anyone on this assignment? If so, list their names here. \n",
    "> *Someone's Name*"
   ]
  }
 ],
 "metadata": {
  "colab": {
   "collapsed_sections": [],
   "name": "Homework6_solutions.ipynb",
   "provenance": []
  },
  "kernelspec": {
   "display_name": "R",
   "language": "R",
   "name": "ir"
  },
  "language_info": {
   "codemirror_mode": "r",
   "file_extension": ".r",
   "mimetype": "text/x-r-source",
   "name": "R",
   "pygments_lexer": "r",
   "version": "3.6.3"
  }
 },
 "nbformat": 4,
 "nbformat_minor": 1
}
