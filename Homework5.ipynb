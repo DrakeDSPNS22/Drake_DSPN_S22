{
 "cells": [
  {
   "cell_type": "markdown",
   "metadata": {
    "id": "szkkhiCZDF52"
   },
   "source": [
    "# Homework 5:  Linear models, continued\n",
    "This homework assignment is designed to give you a deeper understanding of linear models. First, we'll dive into the math behind the closed-form solution of maximum likelihood estimation. **In the first section below, write your answers using Latex equation formatting.**\n",
    "\n",
    "*Note: Check out [this page](https://gtribello.github.io/mathNET/assets/notebook-writing.html) and [this page](https://towardsdatascience.com/write-markdown-latex-in-the-jupyter-notebook-10985edb91fd) for resources on how to do Latex formatting. You can also double click on the question cells in this notebook to see how math is formatted in the questions.*\n"
   ]
  },
  {
   "cell_type": "markdown",
   "metadata": {
    "id": "QJscNReoylRt"
   },
   "source": [
    "---\n",
    "## 1. Deriving the Maximum Likelihood Estimate for Simple Linear Regression (6 points)"
   ]
  },
  {
   "cell_type": "markdown",
   "metadata": {
    "id": "nH82gwuymPi0"
   },
   "source": [
    "Using the mean squared error (MSE) as your objective function (the thing you're trying to minimize when you fit your model) allows for a closed form solution to finding the maximum likelihood estimate (MLE) of your model parameters in linear regression. Let’s consider the simple, single predictor variable model, i.e. simple linear regression :  $Y= \\beta_0 + \\beta_1 X $. \n",
    "\n",
    "a) Use algebra to show how you can expand out $MSE(\\beta_0, \\beta_1)$ to get from i to ii below.\n",
    "\n",
    "> _i)_ $E[ (Y-(\\beta_0 + \\beta_1 X))^2]$\n",
    "\n",
    "> _ii)_ $E[Y^2] -2 \\beta_0E[Y]-2 \\beta_1 Cov[X,Y]-2 \\beta_1 E[X]E[Y]+ \\beta_0^2 +2 \\beta_0 \\beta_1 E[X]+\\beta_1^2 Var[X]+ \\beta_1^2 (E[X])^2$"
   ]
  },
  {
   "cell_type": "markdown",
   "metadata": {
    "id": "dn2hveNho-Of"
   },
   "source": [
    "**Answer:**\n",
    "\n",
    "> $E[ (Y-(\\beta_0 + \\beta_1 X))^2]$\n",
    "\n",
    "> $ E[(Y- (\\beta_0 +\\beta_1 X)) (Y-(\\beta_0 +\\beta_1 X)) $ \n",
    "> $ = (Y^2 - 2Y\\beta_0 - 2Y\\beta_1 X + (\\beta_0 + \\beta_1 X)^2)  $ \n",
    "> $ = \\beta_0^2 + 2\\beta_0\\beta_1 X + \\beta_1^2 X^2)] $ \n",
    "\n",
    "> $ E[Y^2] - E(2Y\\beta_0) - E(2Y\\beta_1 X) + \\beta_0^2 + E(2\\beta_0\\beta_1 X) + E(\\beta_1^2 X^2)] $ \n",
    "\n",
    "> $ E[Y^2] - 2\\beta_0E(Y)) -2\\beta_1 Cov(X,Y) -2\\beta_1 E(X)E(Y) + \\beta_0^2 + 2\\beta_0\\beta_1 E(X))+ \\beta_1^2(var(X)) + \\beta_1^2(E(X))^2] $\n",
    "\n",
    ">  $E[Y^2] -2 \\beta_0E[Y]-2 \\beta_1 Cov[X,Y]-2 \\beta_1 E[X]E[Y]+ \\beta_0^2 +2 \\beta_0 \\beta_1 E[X]+\\beta_1^2 Var[X]+ \\beta_1^2 (E[X])^2]$\n",
    "\n"
   ]
  },
  {
   "cell_type": "markdown",
   "metadata": {
    "id": "GCr46r9xwRXP"
   },
   "source": [
    "b) Prove that the MLE of $\\beta_0$ is $E[Y]- \\beta_1 E[X]$ by taking the derivative of _ii_ above, with respect to $\\beta_0$, setting the derivative to zero, and solving for $\\beta_0$.\n",
    "\n",
    "> equation ii) $ E(Y^2) - 2\\beta_0E(Y)) -2\\beta_1 Cov(X,Y) -2\\beta_1 E(X)E(Y) + \\beta_0^2 + 2\\beta_0\\beta_1 E(X))+ \\beta_1^2(var(X)) + \\beta_1^2(E(X))^2 $"
   ]
  },
  {
   "cell_type": "markdown",
   "metadata": {
    "id": "Ul-PZyLbwTCQ"
   },
   "source": [
    "**Answer:**\n",
    "\n",
    "> $ E(Y^2) - 2\\beta_0E(Y)) -2\\beta_1 Cov(X,Y) -2\\beta_1 E(X)E(Y) + \\beta_0^2 + 2\\beta_0\\beta_1 E(X))+ \\beta_1^2(var(X)) + \\beta_1^2(E(X))^2 $\n",
    "\n",
    ">$ = -2\\beta_0E(Y)) + \\beta_0^2 + 2\\beta_0\\beta_1 E(X) $\n",
    "\n",
    ">$- 2\\beta_0E(Y) $ \n",
    " \n",
    ">$ = (1)-2\\beta_0^1-1 E(Y)$\n",
    "\n",
    ">$ = (1)-2\\beta_0^0  E(Y)$ \n",
    " \n",
    ">$ = (1)-2E(Y)$ \n",
    " \n",
    ">$ = -2E(Y)$\n",
    " \n",
    ">$\\beta_0^2$\n",
    "\n",
    ">$ = (2) \\beta_0^2-1 $\n",
    "\n",
    ">$ = (2) \\beta_0^1 $ \n",
    "\n",
    ">$ = 2\\beta_0 $\n",
    "\n",
    "\n",
    ">$2\\beta_0\\beta_1 E(X)$\n",
    "\n",
    ">$ = (1)2\\beta_0^0\\beta_1 E(X) $ \n",
    "\n",
    ">$ = 2\\beta_1E(X) $ \n",
    "\n",
    "\n",
    "\n",
    ">$ \\beta_0 = -2E(Y) + 2\\beta_0 + 2\\beta_1E(X)$\n",
    ">$ 0 = -2E(Y) + 2\\beta_0 + 2\\beta_1E(X)$\n",
    "\n",
    ">$ 0 = 2(-E(Y) + \\beta_0 + \\beta_1E(X))$\n",
    "\n",
    "\n",
    ">$ \\frac{0}{2} = \\frac{2(-E(Y) + \\beta_0 + \\beta_1E(X))}{2}$\n",
    "\n",
    "\n",
    "\n",
    ">$ 0 = -E(Y) + \\beta_0 + \\beta_1E(X)$\n",
    "\n",
    ">$ 0 - \\beta_0 = -E(Y) + \\beta_0 + \\beta_1E(X) - \\beta_0$\n",
    "\n",
    "\n",
    "\n",
    ">$ -\\beta_0 = -E(Y) + \\beta_1E(X)$ \n",
    "\n",
    "\n",
    "\n",
    ">$ \\frac{-\\beta_0}{-1} = \\frac{-E(Y) + \\beta_1E(X)}{-1}$\n",
    "\n",
    ">$ \\beta_0 =E(Y) + \\beta_1E(X)$\n",
    "\n",
    "\n",
    "\n"
   ]
  },
  {
   "cell_type": "markdown",
   "metadata": {
    "id": "-uv4Z7afw4gB"
   },
   "source": [
    "c) Prove that the MLE for $\\beta_1$ is $Cov[X,Y]/Var[X]$ by taking the derivative of equation _ii_ above, with respect to $\\beta_1$, setting the derivative to zero, and solving for $\\beta_1$. *Hint: after you've simplified / expanded a bit, plug in the solution for $\\beta_0$ from part b.* \n",
    "> equation ii)_ $E[Y^2] -2 \\beta_0E[Y]-2 \\beta_1 Cov[X,Y]-2 \\beta_1 E[X]E[Y]+ \\beta_0^2 +2 \\beta_0 \\beta_1 E[X]+\\beta_1^2 Var[X]+ \\beta_1^2 (E[X])^2$"
   ]
  },
  {
   "cell_type": "markdown",
   "metadata": {
    "id": "sWTFZ6ZSw6sh"
   },
   "source": [
    "\n",
    "\n",
    "Remove all terms not concerning $\\beta_1 $\n",
    ">$ = -2\\beta_1 Cov(X,Y) -2\\beta_1 E(X)E(Y) + 2\\beta_0\\beta_1 E(X))+ \\beta_1^2(var(X)) + \\beta_1^2(E(X))^2 $\n",
    "\n",
    "\n",
    ">$-2\\beta_1 Cov(X,Y) $\n",
    ">$ = -2\\beta_1 Cov(X,Y) $\\\n",
    ">$ = (1)-2\\beta_1^0 Cov(X,Y)$\\\n",
    ">$ = (1)-2 Cov(X,Y)$\\\n",
    ">$ = -2 Cov(X,Y)$\n",
    "\n",
    "\n",
    ">$ = -2\\beta_1 E(X)E(Y)$\\\n",
    ">$ = (1)-2\\beta_1^0 E(X)E(Y)$\\\n",
    ">$ = (1)-2E(X)E(Y)$\\\n",
    ">$ = -2E(X)E(Y)$\n",
    "\n",
    "\n",
    ">$ = 2\\beta_0\\beta_1 E(X))$\\\n",
    ">$ = (1)2\\beta_0\\beta_1^0 E(X))$\\\n",
    ">$ = (1)2\\beta_0E(X))$\\\n",
    ">$ = 2\\beta_0E(X))$\n",
    "\n",
    "\n",
    ">$ = \\beta_1^2(var(X))$\\\n",
    ">$ = (2)\\beta_1^1(var(X))$\\\n",
    ">$ = (2)\\beta_1^1(var(X))$\\\n",
    ">$ = (2)\\beta_1(var(X))$\\\n",
    ">$ = 2\\beta_1(var(X))$\n",
    "\n",
    "\n",
    ">$ = \\beta_1^2(E(X))^2$\\\n",
    ">$ = (2)\\beta_1^1(E(X))^2$\\\n",
    ">$ = 2\\beta_1(E(X))^2$\n",
    "\n",
    "\n",
    ">$ \\beta_1 = -2 Cov(X,Y)-2E(X)E(Y) + 2\\beta_0E(X)) + 2\\beta_1(var(X)) +  2\\beta_1(E(X))^2$\n",
    "\n",
    "> $\\beta_0$ from part b: $\\beta_0$ = $E(Y) + \\beta_1E(X)$ \n",
    ">$ \\beta_1 = -2 Cov(X,Y)-2E(X)E(Y) + 2\\beta_0E(X)) + 2\\beta_1(var(X)) +  2\\beta_1(E(X))^2$\n",
    "\n",
    ">; $ (2)\\beta_0E(X)) = (2)E(X)E(Y) -\\beta_1E(X)^2$\n",
    "\n",
    "> = $ 2E(X)E(Y) -2\\beta_1E(X)^2$\n",
    "\n",
    ">$ \\beta_1 = -2 Cov(X,Y)-2E(X)E(Y) +2E(X)E(Y) -2\\beta_1E(X)^2  + 2\\beta_1(var(X)) +  2\\beta_1(E(X))^2$\n",
    "\n",
    "\n",
    ">$ \\beta_1 = -2 Cov(X,Y) + 2\\beta_1(var(X))$\n",
    "\n",
    ">Solve for $\\beta_1$ when $\\beta_1 = 0$ \n",
    "\n",
    ">$ \\beta_1 = -2 Cov(X,Y) + 2\\beta_1(var(X))$\n",
    "\n",
    ">$ 0 = -2 Cov(X,Y) + 2\\beta_1(var(X))$\n",
    "\n",
    "\n",
    "\n",
    ">$ 0 = (2)(-Cov(X,Y) + \\beta_1(var(X)))$\n",
    "\n",
    ">$ \\frac{0}{2} = \\frac{(2)(-Cov(X,Y) + \\beta_1(var(X))}{2}$\n",
    "\n",
    ">$ 0 =-Cov(X,Y) + \\beta_1(var(X))$\n",
    "\n",
    ">$ 0 + Cov(X,Y) =-Cov(X,Y) + \\beta_1(var(X)) + Cov(X,Y)$\n",
    "\n",
    ">$ Cov(X,Y) = beta_1(var(X))$\n",
    "\n",
    ">$ \\frac{Cov(X,Y)}{var(X)} = \\frac{beta_1(var(X))}{var(X)} $\n",
    ">$\\beta_1 =\\frac{Cov(X,Y)}{var(X)}$\n",
    "\n"
   ]
  },
  {
   "cell_type": "markdown",
   "metadata": {
    "id": "66X264ZpDF58"
   },
   "source": [
    "---\n",
    "## 2. Connecting to data (4 points)\n",
    "\n",
    "Now let's connect this to some real data. Once again we'll be using the  **unrestricted_trimmed_1_7_2020_10_50_44.csv** file from the *Homework/hcp_data* folder in the class GitHub repository. \n",
    "\n",
    "​\n",
    "This data is a portion of the [Human Connectome Project database](http://www.humanconnectomeproject.org/). It provides measures of cognitive tasks and brain morphology measurements from 1206 participants. The full description of each variable is provided in the **HCP_S1200_DataDictionary_April_20_2018.csv** file in the *Homework/hcp_data* folder in the class GitHub repository. \n",
    "\n",
    "a) Use the `setwd` and `read.csv` functions to load data from the **unrestricted_trimmed_1_7_2020_10_50_44.csv** file. Then use the `tidyverse` tools make a new dataframe `d1` that only inclues the subject ID (`Subject`), Flanker Task performance (`Flanker_Unadj`), and total grey matter volume (`FS_Total_GM_Vol`) variables and remove all _NA_ values.\n",
    "\n",
    "Use the `head` function to look at the first few rows of each data frame. "
   ]
  },
  {
   "cell_type": "code",
   "execution_count": 5,
   "metadata": {
    "colab": {
     "base_uri": "https://localhost:8080/",
     "height": 1000
    },
    "executionInfo": {
     "elapsed": 5637,
     "status": "ok",
     "timestamp": 1616440721755,
     "user": {
      "displayName": "Patience Stevens",
      "photoUrl": "https://lh3.googleusercontent.com/a-/AOh14Gi-_9ZqhIFhAv1oMehJNvNuIKSTyrFQHzjxQKhx=s64",
      "userId": "01994571539255174942"
     },
     "user_tz": 240
    },
    "id": "PZ0lngBjDF58",
    "outputId": "a3c4f688-d665-4d79-8250-56c4d45465e2"
   },
   "outputs": [
    {
     "data": {
      "text/html": [
       "<table class=\"dataframe\">\n",
       "<caption>A data.frame: 6 × 500</caption>\n",
       "<thead>\n",
       "\t<tr><th></th><th scope=col>Subject</th><th scope=col>Release</th><th scope=col>Acquisition</th><th scope=col>Gender</th><th scope=col>Age</th><th scope=col>MMSE_Score</th><th scope=col>PSQI_Score</th><th scope=col>PSQI_Comp1</th><th scope=col>PSQI_Comp2</th><th scope=col>PSQI_Comp3</th><th scope=col>⋯</th><th scope=col>Noise_Comp</th><th scope=col>Odor_Unadj</th><th scope=col>Odor_AgeAdj</th><th scope=col>PainIntens_RawScore</th><th scope=col>PainInterf_Tscore</th><th scope=col>Taste_Unadj</th><th scope=col>Taste_AgeAdj</th><th scope=col>Mars_Log_Score</th><th scope=col>Mars_Errs</th><th scope=col>Mars_Final</th></tr>\n",
       "\t<tr><th></th><th scope=col>&lt;int&gt;</th><th scope=col>&lt;fct&gt;</th><th scope=col>&lt;fct&gt;</th><th scope=col>&lt;fct&gt;</th><th scope=col>&lt;fct&gt;</th><th scope=col>&lt;int&gt;</th><th scope=col>&lt;int&gt;</th><th scope=col>&lt;int&gt;</th><th scope=col>&lt;int&gt;</th><th scope=col>&lt;int&gt;</th><th scope=col>⋯</th><th scope=col>&lt;dbl&gt;</th><th scope=col>&lt;dbl&gt;</th><th scope=col>&lt;dbl&gt;</th><th scope=col>&lt;int&gt;</th><th scope=col>&lt;dbl&gt;</th><th scope=col>&lt;dbl&gt;</th><th scope=col>&lt;dbl&gt;</th><th scope=col>&lt;dbl&gt;</th><th scope=col>&lt;int&gt;</th><th scope=col>&lt;dbl&gt;</th></tr>\n",
       "</thead>\n",
       "<tbody>\n",
       "\t<tr><th scope=row>1</th><td>100004</td><td>S900</td><td>Q06</td><td>M</td><td>22-25</td><td>29</td><td>8</td><td>1</td><td>2</td><td>2</td><td>⋯</td><td>5.2</td><td>101.12</td><td> 86.45</td><td>2</td><td>45.9</td><td>107.17</td><td>105.31</td><td>1.80</td><td>0</td><td>1.80</td></tr>\n",
       "\t<tr><th scope=row>2</th><td>100206</td><td>S900</td><td>Q11</td><td>M</td><td>26-30</td><td>30</td><td>6</td><td>1</td><td>1</td><td>1</td><td>⋯</td><td>6.0</td><td>108.79</td><td> 97.19</td><td>1</td><td>49.7</td><td> 72.63</td><td> 72.03</td><td>1.84</td><td>0</td><td>1.84</td></tr>\n",
       "\t<tr><th scope=row>3</th><td>100307</td><td>Q1  </td><td>Q01</td><td>F</td><td>26-30</td><td>29</td><td>4</td><td>1</td><td>0</td><td>1</td><td>⋯</td><td>3.6</td><td>101.12</td><td> 86.45</td><td>0</td><td>38.6</td><td> 71.69</td><td> 71.76</td><td>1.76</td><td>0</td><td>1.76</td></tr>\n",
       "\t<tr><th scope=row>4</th><td>100408</td><td>Q3  </td><td>Q03</td><td>M</td><td>31-35</td><td>30</td><td>4</td><td>1</td><td>1</td><td>0</td><td>⋯</td><td>2.0</td><td>108.79</td><td> 98.04</td><td>2</td><td>52.6</td><td>114.01</td><td>113.59</td><td>1.76</td><td>2</td><td>1.68</td></tr>\n",
       "\t<tr><th scope=row>5</th><td>100610</td><td>S900</td><td>Q08</td><td>M</td><td>26-30</td><td>30</td><td>4</td><td>1</td><td>1</td><td>0</td><td>⋯</td><td>2.0</td><td>122.25</td><td>110.45</td><td>0</td><td>38.6</td><td> 84.84</td><td> 85.31</td><td>1.92</td><td>1</td><td>1.88</td></tr>\n",
       "\t<tr><th scope=row>6</th><td>101006</td><td>S500</td><td>Q06</td><td>F</td><td>31-35</td><td>28</td><td>2</td><td>1</td><td>1</td><td>0</td><td>⋯</td><td>6.0</td><td>122.25</td><td>111.41</td><td>0</td><td>38.6</td><td>123.80</td><td>123.31</td><td>1.80</td><td>0</td><td>1.80</td></tr>\n",
       "</tbody>\n",
       "</table>\n"
      ],
      "text/latex": [
       "A data.frame: 6 × 500\n",
       "\\begin{tabular}{r|lllllllllllllllllllll}\n",
       "  & Subject & Release & Acquisition & Gender & Age & MMSE\\_Score & PSQI\\_Score & PSQI\\_Comp1 & PSQI\\_Comp2 & PSQI\\_Comp3 & ⋯ & Noise\\_Comp & Odor\\_Unadj & Odor\\_AgeAdj & PainIntens\\_RawScore & PainInterf\\_Tscore & Taste\\_Unadj & Taste\\_AgeAdj & Mars\\_Log\\_Score & Mars\\_Errs & Mars\\_Final\\\\\n",
       "  & <int> & <fct> & <fct> & <fct> & <fct> & <int> & <int> & <int> & <int> & <int> & ⋯ & <dbl> & <dbl> & <dbl> & <int> & <dbl> & <dbl> & <dbl> & <dbl> & <int> & <dbl>\\\\\n",
       "\\hline\n",
       "\t1 & 100004 & S900 & Q06 & M & 22-25 & 29 & 8 & 1 & 2 & 2 & ⋯ & 5.2 & 101.12 &  86.45 & 2 & 45.9 & 107.17 & 105.31 & 1.80 & 0 & 1.80\\\\\n",
       "\t2 & 100206 & S900 & Q11 & M & 26-30 & 30 & 6 & 1 & 1 & 1 & ⋯ & 6.0 & 108.79 &  97.19 & 1 & 49.7 &  72.63 &  72.03 & 1.84 & 0 & 1.84\\\\\n",
       "\t3 & 100307 & Q1   & Q01 & F & 26-30 & 29 & 4 & 1 & 0 & 1 & ⋯ & 3.6 & 101.12 &  86.45 & 0 & 38.6 &  71.69 &  71.76 & 1.76 & 0 & 1.76\\\\\n",
       "\t4 & 100408 & Q3   & Q03 & M & 31-35 & 30 & 4 & 1 & 1 & 0 & ⋯ & 2.0 & 108.79 &  98.04 & 2 & 52.6 & 114.01 & 113.59 & 1.76 & 2 & 1.68\\\\\n",
       "\t5 & 100610 & S900 & Q08 & M & 26-30 & 30 & 4 & 1 & 1 & 0 & ⋯ & 2.0 & 122.25 & 110.45 & 0 & 38.6 &  84.84 &  85.31 & 1.92 & 1 & 1.88\\\\\n",
       "\t6 & 101006 & S500 & Q06 & F & 31-35 & 28 & 2 & 1 & 1 & 0 & ⋯ & 6.0 & 122.25 & 111.41 & 0 & 38.6 & 123.80 & 123.31 & 1.80 & 0 & 1.80\\\\\n",
       "\\end{tabular}\n"
      ],
      "text/markdown": [
       "\n",
       "A data.frame: 6 × 500\n",
       "\n",
       "| <!--/--> | Subject &lt;int&gt; | Release &lt;fct&gt; | Acquisition &lt;fct&gt; | Gender &lt;fct&gt; | Age &lt;fct&gt; | MMSE_Score &lt;int&gt; | PSQI_Score &lt;int&gt; | PSQI_Comp1 &lt;int&gt; | PSQI_Comp2 &lt;int&gt; | PSQI_Comp3 &lt;int&gt; | ⋯ ⋯ | Noise_Comp &lt;dbl&gt; | Odor_Unadj &lt;dbl&gt; | Odor_AgeAdj &lt;dbl&gt; | PainIntens_RawScore &lt;int&gt; | PainInterf_Tscore &lt;dbl&gt; | Taste_Unadj &lt;dbl&gt; | Taste_AgeAdj &lt;dbl&gt; | Mars_Log_Score &lt;dbl&gt; | Mars_Errs &lt;int&gt; | Mars_Final &lt;dbl&gt; |\n",
       "|---|---|---|---|---|---|---|---|---|---|---|---|---|---|---|---|---|---|---|---|---|---|\n",
       "| 1 | 100004 | S900 | Q06 | M | 22-25 | 29 | 8 | 1 | 2 | 2 | ⋯ | 5.2 | 101.12 |  86.45 | 2 | 45.9 | 107.17 | 105.31 | 1.80 | 0 | 1.80 |\n",
       "| 2 | 100206 | S900 | Q11 | M | 26-30 | 30 | 6 | 1 | 1 | 1 | ⋯ | 6.0 | 108.79 |  97.19 | 1 | 49.7 |  72.63 |  72.03 | 1.84 | 0 | 1.84 |\n",
       "| 3 | 100307 | Q1   | Q01 | F | 26-30 | 29 | 4 | 1 | 0 | 1 | ⋯ | 3.6 | 101.12 |  86.45 | 0 | 38.6 |  71.69 |  71.76 | 1.76 | 0 | 1.76 |\n",
       "| 4 | 100408 | Q3   | Q03 | M | 31-35 | 30 | 4 | 1 | 1 | 0 | ⋯ | 2.0 | 108.79 |  98.04 | 2 | 52.6 | 114.01 | 113.59 | 1.76 | 2 | 1.68 |\n",
       "| 5 | 100610 | S900 | Q08 | M | 26-30 | 30 | 4 | 1 | 1 | 0 | ⋯ | 2.0 | 122.25 | 110.45 | 0 | 38.6 |  84.84 |  85.31 | 1.92 | 1 | 1.88 |\n",
       "| 6 | 101006 | S500 | Q06 | F | 31-35 | 28 | 2 | 1 | 1 | 0 | ⋯ | 6.0 | 122.25 | 111.41 | 0 | 38.6 | 123.80 | 123.31 | 1.80 | 0 | 1.80 |\n",
       "\n"
      ],
      "text/plain": [
       "  Subject Release Acquisition Gender Age   MMSE_Score PSQI_Score PSQI_Comp1\n",
       "1 100004  S900    Q06         M      22-25 29         8          1         \n",
       "2 100206  S900    Q11         M      26-30 30         6          1         \n",
       "3 100307  Q1      Q01         F      26-30 29         4          1         \n",
       "4 100408  Q3      Q03         M      31-35 30         4          1         \n",
       "5 100610  S900    Q08         M      26-30 30         4          1         \n",
       "6 101006  S500    Q06         F      31-35 28         2          1         \n",
       "  PSQI_Comp2 PSQI_Comp3 ⋯ Noise_Comp Odor_Unadj Odor_AgeAdj PainIntens_RawScore\n",
       "1 2          2          ⋯ 5.2        101.12      86.45      2                  \n",
       "2 1          1          ⋯ 6.0        108.79      97.19      1                  \n",
       "3 0          1          ⋯ 3.6        101.12      86.45      0                  \n",
       "4 1          0          ⋯ 2.0        108.79      98.04      2                  \n",
       "5 1          0          ⋯ 2.0        122.25     110.45      0                  \n",
       "6 1          0          ⋯ 6.0        122.25     111.41      0                  \n",
       "  PainInterf_Tscore Taste_Unadj Taste_AgeAdj Mars_Log_Score Mars_Errs\n",
       "1 45.9              107.17      105.31       1.80           0        \n",
       "2 49.7               72.63       72.03       1.84           0        \n",
       "3 38.6               71.69       71.76       1.76           0        \n",
       "4 52.6              114.01      113.59       1.76           2        \n",
       "5 38.6               84.84       85.31       1.92           1        \n",
       "6 38.6              123.80      123.31       1.80           0        \n",
       "  Mars_Final\n",
       "1 1.80      \n",
       "2 1.84      \n",
       "3 1.76      \n",
       "4 1.68      \n",
       "5 1.88      \n",
       "6 1.80      "
      ]
     },
     "metadata": {},
     "output_type": "display_data"
    },
    {
     "data": {
      "text/html": [
       "<table class=\"dataframe\">\n",
       "<caption>A data.frame: 1206 × 3</caption>\n",
       "<thead>\n",
       "\t<tr><th scope=col>Subject</th><th scope=col>Flanker_Unadj</th><th scope=col>FS_Total_GM_Vol</th></tr>\n",
       "\t<tr><th scope=col>&lt;int&gt;</th><th scope=col>&lt;dbl&gt;</th><th scope=col>&lt;int&gt;</th></tr>\n",
       "</thead>\n",
       "<tbody>\n",
       "\t<tr><td>100004</td><td>121.97</td><td>    NA</td></tr>\n",
       "\t<tr><td>100206</td><td>130.42</td><td>807245</td></tr>\n",
       "\t<tr><td>100307</td><td>112.56</td><td>664124</td></tr>\n",
       "\t<tr><td>100408</td><td>121.18</td><td>726206</td></tr>\n",
       "\t<tr><td>100610</td><td>126.53</td><td>762308</td></tr>\n",
       "\t<tr><td>101006</td><td>101.85</td><td>579632</td></tr>\n",
       "\t<tr><td>101107</td><td>107.04</td><td>665024</td></tr>\n",
       "\t<tr><td>101208</td><td> 94.96</td><td>    NA</td></tr>\n",
       "\t<tr><td>101309</td><td>113.67</td><td>707674</td></tr>\n",
       "\t<tr><td>101410</td><td>108.46</td><td>773472</td></tr>\n",
       "\t<tr><td>101612</td><td>115.22</td><td>    NA</td></tr>\n",
       "\t<tr><td>101915</td><td> 98.94</td><td>676282</td></tr>\n",
       "\t<tr><td>102008</td><td>115.50</td><td>717215</td></tr>\n",
       "\t<tr><td>102109</td><td>110.38</td><td>784458</td></tr>\n",
       "\t<tr><td>102311</td><td>111.75</td><td>690232</td></tr>\n",
       "\t<tr><td>102513</td><td> 86.31</td><td>780767</td></tr>\n",
       "\t<tr><td>102614</td><td>124.64</td><td>772912</td></tr>\n",
       "\t<tr><td>102715</td><td>104.59</td><td>795282</td></tr>\n",
       "\t<tr><td>102816</td><td> 96.95</td><td>609326</td></tr>\n",
       "\t<tr><td>103010</td><td> 85.74</td><td>726045</td></tr>\n",
       "\t<tr><td>103111</td><td>103.86</td><td>771666</td></tr>\n",
       "\t<tr><td>103212</td><td> 95.94</td><td>734371</td></tr>\n",
       "\t<tr><td>103414</td><td>102.76</td><td>628040</td></tr>\n",
       "\t<tr><td>103515</td><td>106.97</td><td>666937</td></tr>\n",
       "\t<tr><td>103818</td><td>101.75</td><td>634289</td></tr>\n",
       "\t<tr><td>104012</td><td>100.62</td><td>656325</td></tr>\n",
       "\t<tr><td>104113</td><td>119.39</td><td>    NA</td></tr>\n",
       "\t<tr><td>104416</td><td>115.12</td><td>653952</td></tr>\n",
       "\t<tr><td>104820</td><td>108.94</td><td>580254</td></tr>\n",
       "\t<tr><td>105014</td><td> 97.68</td><td>688424</td></tr>\n",
       "\t<tr><td>⋮</td><td>⋮</td><td>⋮</td></tr>\n",
       "\t<tr><td>953764</td><td>122.76</td><td>591151</td></tr>\n",
       "\t<tr><td>955465</td><td>120.07</td><td>708133</td></tr>\n",
       "\t<tr><td>957974</td><td>108.14</td><td>706022</td></tr>\n",
       "\t<tr><td>958976</td><td>107.92</td><td>673441</td></tr>\n",
       "\t<tr><td>959069</td><td>101.41</td><td>    NA</td></tr>\n",
       "\t<tr><td>959574</td><td>100.12</td><td>661576</td></tr>\n",
       "\t<tr><td>962058</td><td>116.01</td><td>714479</td></tr>\n",
       "\t<tr><td>965367</td><td> 97.48</td><td>730789</td></tr>\n",
       "\t<tr><td>965771</td><td>106.00</td><td>747852</td></tr>\n",
       "\t<tr><td>966975</td><td>107.12</td><td>790456</td></tr>\n",
       "\t<tr><td>969476</td><td>106.32</td><td>733465</td></tr>\n",
       "\t<tr><td>970764</td><td>119.39</td><td>688969</td></tr>\n",
       "\t<tr><td>971160</td><td>123.33</td><td>716900</td></tr>\n",
       "\t<tr><td>972566</td><td>116.01</td><td>627062</td></tr>\n",
       "\t<tr><td>973770</td><td>111.24</td><td>672409</td></tr>\n",
       "\t<tr><td>978578</td><td>112.13</td><td>644910</td></tr>\n",
       "\t<tr><td>979984</td><td>103.78</td><td>599421</td></tr>\n",
       "\t<tr><td>983773</td><td>124.40</td><td>736186</td></tr>\n",
       "\t<tr><td>984472</td><td>125.71</td><td>611572</td></tr>\n",
       "\t<tr><td>987074</td><td>124.78</td><td>708228</td></tr>\n",
       "\t<tr><td>987983</td><td>119.16</td><td>595648</td></tr>\n",
       "\t<tr><td>989987</td><td>114.12</td><td>664667</td></tr>\n",
       "\t<tr><td>990366</td><td>112.21</td><td>636185</td></tr>\n",
       "\t<tr><td>991267</td><td>126.53</td><td>860536</td></tr>\n",
       "\t<tr><td>992673</td><td> 94.87</td><td>636524</td></tr>\n",
       "\t<tr><td>992774</td><td>124.64</td><td>647936</td></tr>\n",
       "\t<tr><td>993675</td><td>116.43</td><td>634223</td></tr>\n",
       "\t<tr><td>994273</td><td>123.22</td><td>722589</td></tr>\n",
       "\t<tr><td>995174</td><td> 99.48</td><td>727971</td></tr>\n",
       "\t<tr><td>996782</td><td>102.43</td><td>771424</td></tr>\n",
       "</tbody>\n",
       "</table>\n"
      ],
      "text/latex": [
       "A data.frame: 1206 × 3\n",
       "\\begin{tabular}{lll}\n",
       " Subject & Flanker\\_Unadj & FS\\_Total\\_GM\\_Vol\\\\\n",
       " <int> & <dbl> & <int>\\\\\n",
       "\\hline\n",
       "\t 100004 & 121.97 &     NA\\\\\n",
       "\t 100206 & 130.42 & 807245\\\\\n",
       "\t 100307 & 112.56 & 664124\\\\\n",
       "\t 100408 & 121.18 & 726206\\\\\n",
       "\t 100610 & 126.53 & 762308\\\\\n",
       "\t 101006 & 101.85 & 579632\\\\\n",
       "\t 101107 & 107.04 & 665024\\\\\n",
       "\t 101208 &  94.96 &     NA\\\\\n",
       "\t 101309 & 113.67 & 707674\\\\\n",
       "\t 101410 & 108.46 & 773472\\\\\n",
       "\t 101612 & 115.22 &     NA\\\\\n",
       "\t 101915 &  98.94 & 676282\\\\\n",
       "\t 102008 & 115.50 & 717215\\\\\n",
       "\t 102109 & 110.38 & 784458\\\\\n",
       "\t 102311 & 111.75 & 690232\\\\\n",
       "\t 102513 &  86.31 & 780767\\\\\n",
       "\t 102614 & 124.64 & 772912\\\\\n",
       "\t 102715 & 104.59 & 795282\\\\\n",
       "\t 102816 &  96.95 & 609326\\\\\n",
       "\t 103010 &  85.74 & 726045\\\\\n",
       "\t 103111 & 103.86 & 771666\\\\\n",
       "\t 103212 &  95.94 & 734371\\\\\n",
       "\t 103414 & 102.76 & 628040\\\\\n",
       "\t 103515 & 106.97 & 666937\\\\\n",
       "\t 103818 & 101.75 & 634289\\\\\n",
       "\t 104012 & 100.62 & 656325\\\\\n",
       "\t 104113 & 119.39 &     NA\\\\\n",
       "\t 104416 & 115.12 & 653952\\\\\n",
       "\t 104820 & 108.94 & 580254\\\\\n",
       "\t 105014 &  97.68 & 688424\\\\\n",
       "\t ⋮ & ⋮ & ⋮\\\\\n",
       "\t 953764 & 122.76 & 591151\\\\\n",
       "\t 955465 & 120.07 & 708133\\\\\n",
       "\t 957974 & 108.14 & 706022\\\\\n",
       "\t 958976 & 107.92 & 673441\\\\\n",
       "\t 959069 & 101.41 &     NA\\\\\n",
       "\t 959574 & 100.12 & 661576\\\\\n",
       "\t 962058 & 116.01 & 714479\\\\\n",
       "\t 965367 &  97.48 & 730789\\\\\n",
       "\t 965771 & 106.00 & 747852\\\\\n",
       "\t 966975 & 107.12 & 790456\\\\\n",
       "\t 969476 & 106.32 & 733465\\\\\n",
       "\t 970764 & 119.39 & 688969\\\\\n",
       "\t 971160 & 123.33 & 716900\\\\\n",
       "\t 972566 & 116.01 & 627062\\\\\n",
       "\t 973770 & 111.24 & 672409\\\\\n",
       "\t 978578 & 112.13 & 644910\\\\\n",
       "\t 979984 & 103.78 & 599421\\\\\n",
       "\t 983773 & 124.40 & 736186\\\\\n",
       "\t 984472 & 125.71 & 611572\\\\\n",
       "\t 987074 & 124.78 & 708228\\\\\n",
       "\t 987983 & 119.16 & 595648\\\\\n",
       "\t 989987 & 114.12 & 664667\\\\\n",
       "\t 990366 & 112.21 & 636185\\\\\n",
       "\t 991267 & 126.53 & 860536\\\\\n",
       "\t 992673 &  94.87 & 636524\\\\\n",
       "\t 992774 & 124.64 & 647936\\\\\n",
       "\t 993675 & 116.43 & 634223\\\\\n",
       "\t 994273 & 123.22 & 722589\\\\\n",
       "\t 995174 &  99.48 & 727971\\\\\n",
       "\t 996782 & 102.43 & 771424\\\\\n",
       "\\end{tabular}\n"
      ],
      "text/markdown": [
       "\n",
       "A data.frame: 1206 × 3\n",
       "\n",
       "| Subject &lt;int&gt; | Flanker_Unadj &lt;dbl&gt; | FS_Total_GM_Vol &lt;int&gt; |\n",
       "|---|---|---|\n",
       "| 100004 | 121.97 |     NA |\n",
       "| 100206 | 130.42 | 807245 |\n",
       "| 100307 | 112.56 | 664124 |\n",
       "| 100408 | 121.18 | 726206 |\n",
       "| 100610 | 126.53 | 762308 |\n",
       "| 101006 | 101.85 | 579632 |\n",
       "| 101107 | 107.04 | 665024 |\n",
       "| 101208 |  94.96 |     NA |\n",
       "| 101309 | 113.67 | 707674 |\n",
       "| 101410 | 108.46 | 773472 |\n",
       "| 101612 | 115.22 |     NA |\n",
       "| 101915 |  98.94 | 676282 |\n",
       "| 102008 | 115.50 | 717215 |\n",
       "| 102109 | 110.38 | 784458 |\n",
       "| 102311 | 111.75 | 690232 |\n",
       "| 102513 |  86.31 | 780767 |\n",
       "| 102614 | 124.64 | 772912 |\n",
       "| 102715 | 104.59 | 795282 |\n",
       "| 102816 |  96.95 | 609326 |\n",
       "| 103010 |  85.74 | 726045 |\n",
       "| 103111 | 103.86 | 771666 |\n",
       "| 103212 |  95.94 | 734371 |\n",
       "| 103414 | 102.76 | 628040 |\n",
       "| 103515 | 106.97 | 666937 |\n",
       "| 103818 | 101.75 | 634289 |\n",
       "| 104012 | 100.62 | 656325 |\n",
       "| 104113 | 119.39 |     NA |\n",
       "| 104416 | 115.12 | 653952 |\n",
       "| 104820 | 108.94 | 580254 |\n",
       "| 105014 |  97.68 | 688424 |\n",
       "| ⋮ | ⋮ | ⋮ |\n",
       "| 953764 | 122.76 | 591151 |\n",
       "| 955465 | 120.07 | 708133 |\n",
       "| 957974 | 108.14 | 706022 |\n",
       "| 958976 | 107.92 | 673441 |\n",
       "| 959069 | 101.41 |     NA |\n",
       "| 959574 | 100.12 | 661576 |\n",
       "| 962058 | 116.01 | 714479 |\n",
       "| 965367 |  97.48 | 730789 |\n",
       "| 965771 | 106.00 | 747852 |\n",
       "| 966975 | 107.12 | 790456 |\n",
       "| 969476 | 106.32 | 733465 |\n",
       "| 970764 | 119.39 | 688969 |\n",
       "| 971160 | 123.33 | 716900 |\n",
       "| 972566 | 116.01 | 627062 |\n",
       "| 973770 | 111.24 | 672409 |\n",
       "| 978578 | 112.13 | 644910 |\n",
       "| 979984 | 103.78 | 599421 |\n",
       "| 983773 | 124.40 | 736186 |\n",
       "| 984472 | 125.71 | 611572 |\n",
       "| 987074 | 124.78 | 708228 |\n",
       "| 987983 | 119.16 | 595648 |\n",
       "| 989987 | 114.12 | 664667 |\n",
       "| 990366 | 112.21 | 636185 |\n",
       "| 991267 | 126.53 | 860536 |\n",
       "| 992673 |  94.87 | 636524 |\n",
       "| 992774 | 124.64 | 647936 |\n",
       "| 993675 | 116.43 | 634223 |\n",
       "| 994273 | 123.22 | 722589 |\n",
       "| 995174 |  99.48 | 727971 |\n",
       "| 996782 | 102.43 | 771424 |\n",
       "\n"
      ],
      "text/plain": [
       "     Subject Flanker_Unadj FS_Total_GM_Vol\n",
       "1    100004  121.97            NA         \n",
       "2    100206  130.42        807245         \n",
       "3    100307  112.56        664124         \n",
       "4    100408  121.18        726206         \n",
       "5    100610  126.53        762308         \n",
       "6    101006  101.85        579632         \n",
       "7    101107  107.04        665024         \n",
       "8    101208   94.96            NA         \n",
       "9    101309  113.67        707674         \n",
       "10   101410  108.46        773472         \n",
       "11   101612  115.22            NA         \n",
       "12   101915   98.94        676282         \n",
       "13   102008  115.50        717215         \n",
       "14   102109  110.38        784458         \n",
       "15   102311  111.75        690232         \n",
       "16   102513   86.31        780767         \n",
       "17   102614  124.64        772912         \n",
       "18   102715  104.59        795282         \n",
       "19   102816   96.95        609326         \n",
       "20   103010   85.74        726045         \n",
       "21   103111  103.86        771666         \n",
       "22   103212   95.94        734371         \n",
       "23   103414  102.76        628040         \n",
       "24   103515  106.97        666937         \n",
       "25   103818  101.75        634289         \n",
       "26   104012  100.62        656325         \n",
       "27   104113  119.39            NA         \n",
       "28   104416  115.12        653952         \n",
       "29   104820  108.94        580254         \n",
       "30   105014   97.68        688424         \n",
       "⋮    ⋮       ⋮             ⋮              \n",
       "1177 953764  122.76        591151         \n",
       "1178 955465  120.07        708133         \n",
       "1179 957974  108.14        706022         \n",
       "1180 958976  107.92        673441         \n",
       "1181 959069  101.41            NA         \n",
       "1182 959574  100.12        661576         \n",
       "1183 962058  116.01        714479         \n",
       "1184 965367   97.48        730789         \n",
       "1185 965771  106.00        747852         \n",
       "1186 966975  107.12        790456         \n",
       "1187 969476  106.32        733465         \n",
       "1188 970764  119.39        688969         \n",
       "1189 971160  123.33        716900         \n",
       "1190 972566  116.01        627062         \n",
       "1191 973770  111.24        672409         \n",
       "1192 978578  112.13        644910         \n",
       "1193 979984  103.78        599421         \n",
       "1194 983773  124.40        736186         \n",
       "1195 984472  125.71        611572         \n",
       "1196 987074  124.78        708228         \n",
       "1197 987983  119.16        595648         \n",
       "1198 989987  114.12        664667         \n",
       "1199 990366  112.21        636185         \n",
       "1200 991267  126.53        860536         \n",
       "1201 992673   94.87        636524         \n",
       "1202 992774  124.64        647936         \n",
       "1203 993675  116.43        634223         \n",
       "1204 994273  123.22        722589         \n",
       "1205 995174   99.48        727971         \n",
       "1206 996782  102.43        771424         "
      ]
     },
     "metadata": {},
     "output_type": "display_data"
    },
    {
     "data": {
      "text/html": [
       "<table class=\"dataframe\">\n",
       "<caption>A data.frame: 6 × 3</caption>\n",
       "<thead>\n",
       "\t<tr><th></th><th scope=col>Subject</th><th scope=col>Flanker_Unadj</th><th scope=col>FS_Total_GM_Vol</th></tr>\n",
       "\t<tr><th></th><th scope=col>&lt;int&gt;</th><th scope=col>&lt;dbl&gt;</th><th scope=col>&lt;int&gt;</th></tr>\n",
       "</thead>\n",
       "<tbody>\n",
       "\t<tr><th scope=row>2</th><td>100206</td><td>130.42</td><td>807245</td></tr>\n",
       "\t<tr><th scope=row>3</th><td>100307</td><td>112.56</td><td>664124</td></tr>\n",
       "\t<tr><th scope=row>4</th><td>100408</td><td>121.18</td><td>726206</td></tr>\n",
       "\t<tr><th scope=row>5</th><td>100610</td><td>126.53</td><td>762308</td></tr>\n",
       "\t<tr><th scope=row>6</th><td>101006</td><td>101.85</td><td>579632</td></tr>\n",
       "\t<tr><th scope=row>7</th><td>101107</td><td>107.04</td><td>665024</td></tr>\n",
       "</tbody>\n",
       "</table>\n"
      ],
      "text/latex": [
       "A data.frame: 6 × 3\n",
       "\\begin{tabular}{r|lll}\n",
       "  & Subject & Flanker\\_Unadj & FS\\_Total\\_GM\\_Vol\\\\\n",
       "  & <int> & <dbl> & <int>\\\\\n",
       "\\hline\n",
       "\t2 & 100206 & 130.42 & 807245\\\\\n",
       "\t3 & 100307 & 112.56 & 664124\\\\\n",
       "\t4 & 100408 & 121.18 & 726206\\\\\n",
       "\t5 & 100610 & 126.53 & 762308\\\\\n",
       "\t6 & 101006 & 101.85 & 579632\\\\\n",
       "\t7 & 101107 & 107.04 & 665024\\\\\n",
       "\\end{tabular}\n"
      ],
      "text/markdown": [
       "\n",
       "A data.frame: 6 × 3\n",
       "\n",
       "| <!--/--> | Subject &lt;int&gt; | Flanker_Unadj &lt;dbl&gt; | FS_Total_GM_Vol &lt;int&gt; |\n",
       "|---|---|---|---|\n",
       "| 2 | 100206 | 130.42 | 807245 |\n",
       "| 3 | 100307 | 112.56 | 664124 |\n",
       "| 4 | 100408 | 121.18 | 726206 |\n",
       "| 5 | 100610 | 126.53 | 762308 |\n",
       "| 6 | 101006 | 101.85 | 579632 |\n",
       "| 7 | 101107 | 107.04 | 665024 |\n",
       "\n"
      ],
      "text/plain": [
       "  Subject Flanker_Unadj FS_Total_GM_Vol\n",
       "2 100206  130.42        807245         \n",
       "3 100307  112.56        664124         \n",
       "4 100408  121.18        726206         \n",
       "5 100610  126.53        762308         \n",
       "6 101006  101.85        579632         \n",
       "7 101107  107.04        665024         "
      ]
     },
     "metadata": {},
     "output_type": "display_data"
    }
   ],
   "source": [
    "# WRITE YOUR CODE HERE\n",
    "\n",
    "library(\"tidyverse\")\n",
    "library(\"dplyr\")\n",
    "\n",
    "setwd(\"/Users/jermondrake/Desktop/DataSciencePsychNeuro/Homeworks/hcp_data\")\n",
    "Human_Connectome <- read.csv(\"/Users/jermondrake/Desktop/DataSciencePsychNeuro/Homeworks/hcp_data/unrestricted_trimmed_1_7_2020_10_50_44.csv\")\n",
    "head(Human_Connectome)\n",
    "\n",
    "(d1 <- Human_Connectome[, c(\"Subject\", \"Flanker_Unadj\",\"FS_Total_GM_Vol\")])\n",
    "na.omit(d1) -> d1\n",
    "head(d1)"
   ]
  },
  {
   "cell_type": "markdown",
   "metadata": {
    "id": "J3owDQ0U2Ewn"
   },
   "source": [
    "b) Now we're going to see if the solutions we proved above actually line up with the model fit that R gives us (it should...). Calculate what the $\\beta_0$ and $\\beta_1$ coefficients should be for a simple linear regression model using `Flanker_Unadj` as $Y$ and `FS_Total_GM_Vol` as $X$. Use the formulas we derived above ($\\beta_1 = Cov[XY]/Var[X]$ , $\\beta_0 = E[Y] - \\beta_1E[X]$). Then use `lm()` to compare the coefficients you calculated with the ones R gives you. "
   ]
  },
  {
   "cell_type": "code",
   "execution_count": 6,
   "metadata": {
    "colab": {
     "base_uri": "https://localhost:8080/",
     "height": 391
    },
    "executionInfo": {
     "elapsed": 553,
     "status": "ok",
     "timestamp": 1614907277511,
     "user": {
      "displayName": "Patience Stevens",
      "photoUrl": "https://lh3.googleusercontent.com/a-/AOh14Gi-_9ZqhIFhAv1oMehJNvNuIKSTyrFQHzjxQKhx=s64",
      "userId": "01994571539255174942"
     },
     "user_tz": 300
    },
    "id": "mWvD8shRDF5_",
    "outputId": "02f91143-c36c-4e9d-dce1-d81f4cbd71b4"
   },
   "outputs": [
    {
     "data": {
      "text/html": [
       "3.10996547106463e-05"
      ],
      "text/latex": [
       "3.10996547106463e-05"
      ],
      "text/markdown": [
       "3.10996547106463e-05"
      ],
      "text/plain": [
       "[1] 3.109965e-05"
      ]
     },
     "metadata": {},
     "output_type": "display_data"
    },
    {
     "data": {
      "text/html": [
       "90.2564608190943"
      ],
      "text/latex": [
       "90.2564608190943"
      ],
      "text/markdown": [
       "90.2564608190943"
      ],
      "text/plain": [
       "[1] 90.25646"
      ]
     },
     "metadata": {},
     "output_type": "display_data"
    },
    {
     "data": {
      "text/plain": [
       "\n",
       "Call:\n",
       "lm(formula = Flanker_Unadj ~ FS_Total_GM_Vol, data = d1)\n",
       "\n",
       "Residuals:\n",
       "     Min       1Q   Median       3Q      Max \n",
       "-28.2280  -6.5969  -0.0119   6.5497  31.0108 \n",
       "\n",
       "Coefficients:\n",
       "                 Estimate Std. Error t value Pr(>|t|)    \n",
       "(Intercept)     9.026e+01  3.041e+00  29.677  < 2e-16 ***\n",
       "FS_Total_GM_Vol 3.110e-05  4.412e-06   7.048 3.18e-12 ***\n",
       "---\n",
       "Signif. codes:  0 ‘***’ 0.001 ‘**’ 0.01 ‘*’ 0.05 ‘.’ 0.1 ‘ ’ 1\n",
       "\n",
       "Residual standard error: 9.864 on 1111 degrees of freedom\n",
       "Multiple R-squared:  0.0428,\tAdjusted R-squared:  0.04194 \n",
       "F-statistic: 49.68 on 1 and 1111 DF,  p-value: 3.177e-12\n"
      ]
     },
     "metadata": {},
     "output_type": "display_data"
    },
    {
     "data": {
      "text/html": [
       "<style>\n",
       ".dl-inline {width: auto; margin:0; padding: 0}\n",
       ".dl-inline>dt, .dl-inline>dd {float: none; width: auto; display: inline-block}\n",
       ".dl-inline>dt::after {content: \":\\0020\"; padding-right: .5ex}\n",
       ".dl-inline>dt:not(:first-of-type) {padding-left: .5ex}\n",
       "</style><dl class=dl-inline><dt>(Intercept)</dt><dd>90.2564608190944</dd><dt>FS_Total_GM_Vol</dt><dd>3.10996547106465e-05</dd></dl>\n"
      ],
      "text/latex": [
       "\\begin{description*}\n",
       "\\item[(Intercept)] 90.2564608190944\n",
       "\\item[FS\\textbackslash{}\\_Total\\textbackslash{}\\_GM\\textbackslash{}\\_Vol] 3.10996547106465e-05\n",
       "\\end{description*}\n"
      ],
      "text/markdown": [
       "(Intercept)\n",
       ":   90.2564608190944FS_Total_GM_Vol\n",
       ":   3.10996547106465e-05\n",
       "\n"
      ],
      "text/plain": [
       "    (Intercept) FS_Total_GM_Vol \n",
       "   9.025646e+01    3.109965e-05 "
      ]
     },
     "metadata": {},
     "output_type": "display_data"
    }
   ],
   "source": [
    "# WRITE YOUR CODE HERE\n",
    "\n",
    "\n",
    "\n",
    "### Slope B1\n",
    "\n",
    "slope <- cov(d1$Flanker_Unadj, d1$FS_Total_GM_Vol)/var(d1$FS_Total_GM_Vol)\n",
    "head(slope)\n",
    "\n",
    "###Intercept B0\n",
    "\n",
    "intercept <- mean(d1$Flanker_Unadj)  - slope * mean(d1$FS_Total_GM_Vol)  \n",
    "head(intercept)\n",
    "\n",
    "##verifying the coefficients I calculated with the ones R gives you\n",
    "lm.fit = lm(Flanker_Unadj~FS_Total_GM_Vol, data=d1)\n",
    "summary(lm.fit)\n",
    "coefficients(lm.fit) \n",
    "\n"
   ]
  },
  {
   "cell_type": "markdown",
   "metadata": {
    "id": "xcnXbsZvDF6B"
   },
   "source": [
    "**DUE:** 5pm EST, March 15, 2022"
   ]
  },
  {
   "cell_type": "markdown",
   "metadata": {
    "id": "aG5swCweDF6B"
   },
   "source": [
    "**IMPORTANT** Did you collaborate with anyone on this assignment? If so, list their names here. \n",
    "> Quentin helped with b & c"
   ]
  },
  {
   "cell_type": "code",
   "execution_count": null,
   "metadata": {},
   "outputs": [],
   "source": []
  }
 ],
 "metadata": {
  "colab": {
   "collapsed_sections": [],
   "name": "Homework5_solutions.ipynb",
   "provenance": []
  },
  "kernelspec": {
   "display_name": "R",
   "language": "R",
   "name": "ir"
  },
  "language_info": {
   "codemirror_mode": "r",
   "file_extension": ".r",
   "mimetype": "text/x-r-source",
   "name": "R",
   "pygments_lexer": "r",
   "version": "3.6.3"
  }
 },
 "nbformat": 4,
 "nbformat_minor": 1
}
